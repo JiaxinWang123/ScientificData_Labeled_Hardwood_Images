{
 "cells": [
  {
   "cell_type": "markdown",
   "id": "cc7ba167",
   "metadata": {},
   "source": [
    "## Code used to change image raw names to new names"
   ]
  },
  {
   "cell_type": "code",
   "execution_count": 7,
   "id": "eaecc97c",
   "metadata": {},
   "outputs": [],
   "source": [
    "# Import necessary packages\n",
    "import os\n",
    "import pandas as pd\n",
    "import shutil\n",
    "from tqdm import tqdm"
   ]
  },
  {
   "cell_type": "code",
   "execution_count": 8,
   "id": "b7f44b81",
   "metadata": {},
   "outputs": [],
   "source": [
    "# Load the metadata file, the old metadata file in .xlsx format can be found here: https://figshare.com/articles/dataset/Labeled_17_Hardwood_Species_and_55_Genotypes_of_Populus_Stomatal_Images_Datasets/22255873?file=39650938\n",
    "meta_data = pd.read_excel('D:/STOMATA/Stomata Image Figshare/Hardwood_and_Populus_datasets.xlsx', index_col=False)"
   ]
  },
  {
   "cell_type": "code",
   "execution_count": 10,
   "id": "decefa72",
   "metadata": {},
   "outputs": [
    {
     "name": "stderr",
     "output_type": "stream",
     "text": [
      "100%|██████████████████████████████████████████████████████████████████████████████| 2008/2008 [00:24<00:00, 82.96it/s]"
     ]
    },
    {
     "name": "stdout",
     "output_type": "stream",
     "text": [
      "Finished\n"
     ]
    },
    {
     "name": "stderr",
     "output_type": "stream",
     "text": [
      "\n"
     ]
    }
   ],
   "source": [
    "# Define the base directory of images\n",
    "basedir = r\"D:\\STOMATA\\Stomata Image Figshare\\Populus_2022\\original_images_with_labels\"\n",
    "\n",
    "# List all images\n",
    "all_files = os.listdir(basedir)\n",
    "\n",
    "# Define new path for renamed images\n",
    "movdir= r\"D:\\STOMATA\\Stomata Image Figshare\\Populus_2022\\renamed3\"\n",
    "\n",
    "# Loop through all images and change file raw name to the UniqueID\n",
    "for count, filename in enumerate(tqdm(all_files)):\n",
    "    file_ext = filename[-4:]\n",
    "    file_name = filename[0:(len(filename)-4)]\n",
    "    \n",
    "    if file_name in list(meta_data['Filename']):\n",
    "        \n",
    "        if file_ext == \".txt\":\n",
    "            new_file_name = meta_data['UniqueID'][meta_data['Filename']==file_name].values[0]\n",
    "            \n",
    "            # Get the path of the original image file.\n",
    "            original_image_path = os.path.join(basedir,file_name + file_ext)\n",
    "\n",
    "            # Set the new path and join the path with the file names\n",
    "            new_image_path = os.path.join(movdir,new_file_name + file_ext)\n",
    "            \n",
    "            # Copy the original image file to a new location.\n",
    "            shutil.copy(original_image_path, new_image_path)\n",
    "            \n",
    "        else:\n",
    "            \n",
    "            new_file_name = meta_data['UniqueID'][meta_data['Filename']==file_name].values[0]\n",
    "            \n",
    "            # Get the path of the original image file.\n",
    "            original_image_path = os.path.join(basedir,file_name + file_ext)\n",
    "\n",
    "            # Set the new path and join the path with the file names\n",
    "            new_image_path = os.path.join(movdir,new_file_name + file_ext)\n",
    "            \n",
    "            # Copy the original image file to a new location.\n",
    "            shutil.copy(original_image_path, new_image_path)\n",
    "            \n",
    "print(\"Finished\")"
   ]
  }
 ],
 "metadata": {
  "kernelspec": {
   "display_name": "Python 3 (ipykernel)",
   "language": "python",
   "name": "python3"
  },
  "language_info": {
   "codemirror_mode": {
    "name": "ipython",
    "version": 3
   },
   "file_extension": ".py",
   "mimetype": "text/x-python",
   "name": "python",
   "nbconvert_exporter": "python",
   "pygments_lexer": "ipython3",
   "version": "3.10.9"
  }
 },
 "nbformat": 4,
 "nbformat_minor": 5
}
